{
 "cells": [
  {
   "cell_type": "markdown",
   "metadata": {},
   "source": [
    "## Introduction "
   ]
  },
  {
   "cell_type": "markdown",
   "metadata": {},
   "source": [
    "### You can install the required packages using pip:"
   ]
  },
  {
   "cell_type": "code",
   "execution_count": null,
   "metadata": {},
   "outputs": [],
   "source": [
    "!pip install easyocr==1.4 opencv-python==4.5\n"
   ]
  },
  {
   "cell_type": "markdown",
   "metadata": {},
   "source": [
    "Summary:\n",
    "In this project, we’ve built an automatic license plate recognition system using  OpenCV –  python, and EasyOCR. Through this project, we’ve learned about Haar cascade object detection, Character recognition, and some basic image processing techniques."
   ]
  },
  {
   "cell_type": "markdown",
   "metadata": {},
   "source": [
    "## 1. Code Initialization \n"
   ]
  },
  {
   "cell_type": "code",
   "execution_count": null,
   "metadata": {},
   "outputs": [],
   "source": [
    "# Import necessary packages\n",
    "import cv2\n",
    "import easyocr\n",
    "\n",
    "# Initialize the Haar Cascade classifier\n",
    "numberPlate_cascade = \"numberplate_haarcascade.xml\"\n",
    "detector = cv2.CascadeClassifier(numberPlate_cascade)\n"
   ]
  },
  {
   "cell_type": "markdown",
   "metadata": {},
   "source": [
    "Context for Initialization: In this step, we import the OpenCV module as cv2 and EasyOCR. We then initialize the Haar Cascade classifier model for detecting number plates using cv2.CascadeClassifier"
   ]
  },
  {
   "cell_type": "markdown",
   "metadata": {},
   "source": [
    "## 2. Number Plate Detection"
   ]
  },
  {
   "cell_type": "code",
   "execution_count": null,
   "metadata": {},
   "outputs": [],
   "source": [
    "# Read the image\n",
    "img = cv2.imread('image.jpg')\n",
    "img_gray = cv2.cvtColor(img, cv2.COLOR_BGR2GRAY)\n",
    "\n",
    "# Detect number plates\n",
    "plates = detector.detectMultiScale(\n",
    "    img_gray, scaleFactor=1.05, minNeighbors=7,\n",
    "    minSize=(30, 30), flags=cv2.CASCADE_SCALE_IMAGE\n",
    ")\n",
    "\n",
    "print(plates)\n",
    "\n",
    "# Iterate through each detected number plate\n",
    "for (x, y, w, h) in plates:\n",
    "    # Draw bounding box\n",
    "    cv2.rectangle(img, (x, y), (x + w, y + h), (0, 255, 0), 2)\n",
    "    # Crop the number plate\n",
    "    plateROI = img_gray[y:y + h, x:x + w]\n",
    "    cv2.imshow(\"Numberplate\", plateROI)\n",
    "    \n",
    "# Show the final output\n",
    "cv2.imshow('Output', img)\n",
    "# Wait until any key is pressed\n",
    "cv2.waitKey(0)\n"
   ]
  },
  {
   "cell_type": "markdown",
   "metadata": {},
   "source": [
    "Context for Detection: First, we read the image from the local path using cv2.imread(). Since Haar Cascade works with grayscale images, we convert the image to grayscale using cv2.cvtColor(). We then use the detector.detectMultiScale() method to find number plates in the image. The detected number plates are highlighted with bounding boxes. We also crop the detected number plate region for text extraction."
   ]
  },
  {
   "cell_type": "markdown",
   "metadata": {},
   "source": [
    "## 3. Text Extraction"
   ]
  },
  {
   "cell_type": "code",
   "execution_count": null,
   "metadata": {},
   "outputs": [],
   "source": [
    "# Initialize the EasyOCR Reader object\n",
    "reader = easyocr.Reader(['en'])\n",
    "\n",
    "# Detect text\n",
    "text = reader.readtext(plateROI)\n",
    "if len(text) > 0:\n",
    "    print(text)\n",
    "    print(text[0][1])\n",
    "    # Draw text on the frame\n",
    "    cv2.putText(img, text[0][1], (x, y - 5), cv2.FONT_HERSHEY_COMPLEX, 0.8, (0, 255, 0), 2)\n",
    "\n",
    "# Show the final output\n",
    "cv2.imshow('Output', img)\n",
    "# Wait until any key is pressed\n",
    "cv2.waitKey(0)\n"
   ]
  },
  {
   "cell_type": "markdown",
   "metadata": {},
   "source": [
    "Context for Text Extraction: We initialize the EasyOCR Reader object with English language support. The reader.readtext() function extracts text from the cropped number plate image. If text is detected, it is printed and overlayed on the image using cv2.putText().\n",
    "\n"
   ]
  },
  {
   "cell_type": "markdown",
   "metadata": {},
   "source": [
    "## 4. Summary"
   ]
  },
  {
   "cell_type": "markdown",
   "metadata": {},
   "source": [
    "\n",
    "\n",
    "In this project, we built an automatic license plate recognition system using OpenCV and EasyOCR. We learned about:\n",
    "\n",
    "- Haar Cascade object detection for number plate recognition.\n",
    "- Optical Character Recognition (OCR) using EasyOCR.\n",
    "- Basic image processing techniques in OpenCV.\n",
    "\n",
    "This system can be further enhanced and integrated into various applications like traffic monitoring and smart parking solutions.\n"
   ]
  },
  {
   "cell_type": "markdown",
   "metadata": {},
   "source": [
    "This structure provides a clear division between code and explanations, making it easier to follow and understand each step of the process in a Jupyter Notebook."
   ]
  }
 ],
 "metadata": {
  "language_info": {
   "name": "python"
  }
 },
 "nbformat": 4,
 "nbformat_minor": 2
}
